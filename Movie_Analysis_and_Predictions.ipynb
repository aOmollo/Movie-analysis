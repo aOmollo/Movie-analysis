{
 "cells": [
  {
   "cell_type": "markdown",
   "id": "026e7893-fda9-406a-b1f8-0167e8cb8691",
   "metadata": {},
   "source": [
    "# MOVIE ANALYSIS AND PREDICTIONS"
   ]
  },
  {
   "cell_type": "code",
   "execution_count": 3,
   "id": "99323b9e-9305-44f7-ac81-d99e4ca5fd21",
   "metadata": {},
   "outputs": [
    {
     "ename": "NameError",
     "evalue": "name 'ls' is not defined",
     "output_type": "error",
     "traceback": [
      "\u001b[1;31m---------------------------------------------------------------------------\u001b[0m",
      "\u001b[1;31mNameError\u001b[0m                                 Traceback (most recent call last)",
      "Cell \u001b[1;32mIn[3], line 2\u001b[0m\n\u001b[0;32m      1\u001b[0m \u001b[38;5;66;03m#View contents of directory\u001b[39;00m\n\u001b[1;32m----> 2\u001b[0m \u001b[43mls\u001b[49m\n",
      "\u001b[1;31mNameError\u001b[0m: name 'ls' is not defined"
     ]
    }
   ],
   "source": [
    "#View contents of directory\n",
    "ls"
   ]
  },
  {
   "cell_type": "code",
   "execution_count": 4,
   "id": "f53729da-e060-4a26-8b9a-e77905e7ad99",
   "metadata": {},
   "outputs": [
    {
     "ename": "NameError",
     "evalue": "name 'zip_file_path' is not defined",
     "output_type": "error",
     "traceback": [
      "\u001b[1;31m---------------------------------------------------------------------------\u001b[0m",
      "\u001b[1;31mNameError\u001b[0m                                 Traceback (most recent call last)",
      "Cell \u001b[1;32mIn[4], line 8\u001b[0m\n\u001b[0;32m      5\u001b[0m zipfile_path \u001b[38;5;241m=\u001b[39m \u001b[38;5;124m\"\u001b[39m\u001b[38;5;124mdsc-phase-1-project-master.zip\u001b[39m\u001b[38;5;124m\"\u001b[39m\n\u001b[0;32m      6\u001b[0m directory \u001b[38;5;241m=\u001b[39m \u001b[38;5;124mr\u001b[39m\u001b[38;5;124m\"\u001b[39m\u001b[38;5;124mC:\u001b[39m\u001b[38;5;124m\\\u001b[39m\u001b[38;5;124mUsers\u001b[39m\u001b[38;5;124m\\\u001b[39m\u001b[38;5;124mhp\u001b[39m\u001b[38;5;124m\\\u001b[39m\u001b[38;5;124mDesktop\u001b[39m\u001b[38;5;124m\\\u001b[39m\u001b[38;5;124mMovie Analysis\u001b[39m\u001b[38;5;124m\"\u001b[39m\n\u001b[1;32m----> 8\u001b[0m \u001b[38;5;28;01mwith\u001b[39;00m zipfile\u001b[38;5;241m.\u001b[39mZipFile(\u001b[43mzip_file_path\u001b[49m,\u001b[38;5;124m\"\u001b[39m\u001b[38;5;124mr\u001b[39m\u001b[38;5;124m\"\u001b[39m) \u001b[38;5;28;01mas\u001b[39;00m zip_ref:\n\u001b[0;32m      9\u001b[0m     zip_ref\u001b[38;5;241m.\u001b[39mextractall(directory)\n\u001b[0;32m     11\u001b[0m \u001b[38;5;66;03m#list zipfile contents extracted\u001b[39;00m\n\u001b[0;32m     12\u001b[0m \u001b[38;5;66;03m#import os\u001b[39;00m\n",
      "\u001b[1;31mNameError\u001b[0m: name 'zip_file_path' is not defined"
     ]
    }
   ],
   "source": [
    "#Extract the ZipFile\n",
    "#import zipfile Module\n",
    "import zipfile\n",
    "\n",
    "zipfile_path = \"dsc-phase-1-project-master.zip\"\n",
    "directory = r\"C:\\Users\\hp\\Desktop\\Movie Analysis\"\n",
    "\n",
    "with zipfile.ZipFile(zip_file_path,\"r\") as zip_ref:\n",
    "    zip_ref.extractall(directory)\n",
    "\n",
    "#list zipfile contents extracted\n",
    "#import os\n",
    "import os\n",
    "files_extracted = os.listdir(directory)\n",
    "\n",
    "#View extracted files\n",
    "print(\"Files Extracted:\", files_extracted)\n"
   ]
  },
  {
   "cell_type": "code",
   "execution_count": null,
   "id": "161b2046-5a07-4f78-b940-140b5a1d4fe6",
   "metadata": {},
   "outputs": [],
   "source": [
    "#get all files in the zip folder name dsc-phase-1-project-master.zip\n",
    "#zip-ref is defined above \n",
    "zip_contents = zip_ref.namelist()\n",
    "\n",
    "# Display all files\n",
    "print(\"Contents of dsc-phase-1-project-master.zip:\")\n",
    "for item in zip_contents:\n",
    "    print(item)\n"
   ]
  },
  {
   "cell_type": "markdown",
   "id": "b0d46c3e-0138-4013-a507-a8d736781f2c",
   "metadata": {},
   "source": [
    "# Analysis and Prediction of the Movies based on Gross Income Per Year"
   ]
  },
  {
   "cell_type": "code",
   "execution_count": null,
   "id": "88a7c60e-838c-4ab8-95f3-bad402eee166",
   "metadata": {},
   "outputs": [],
   "source": [
    "#Import pandas and preview file as dataframe \n",
    "import pandas as pd\n",
    "import gzip\n",
    "movie_gross = \"dsc-phase-1-project-master/zippedData/bom.movie_gross.csv.gz\"\n",
    "movie_gross_df = read_gzip_csv(movie_gross)\n",
    "movie_gross_df"
   ]
  },
  {
   "cell_type": "markdown",
   "id": "9061af06-aecb-4833-b773-eb12214e34a2",
   "metadata": {},
   "source": [
    "#### Data Understanding "
   ]
  },
  {
   "cell_type": "code",
   "execution_count": null,
   "id": "10cb9cd5-475d-4101-9097-d5ad84ee81cb",
   "metadata": {},
   "outputs": [],
   "source": [
    "#Check missing values\n",
    "movie_gross_df.isna().sum()"
   ]
  },
  {
   "cell_type": "code",
   "execution_count": null,
   "id": "03a11e93-8cbe-4be3-ba9d-414c9c629b64",
   "metadata": {
    "scrolled": true
   },
   "outputs": [],
   "source": [
    "#Stastical Summary of domestic and foreign gross\n",
    "print(movie_gross_df[\"domestic_gross\"].describe(), \"\\n\\n\", movie_gross_df[\"foreign_gross\"].describe())"
   ]
  },
  {
   "cell_type": "code",
   "execution_count": null,
   "id": "657e720a-a434-47d7-a950-b0ee2f3031ed",
   "metadata": {},
   "outputs": [],
   "source": []
  }
 ],
 "metadata": {
  "kernelspec": {
   "display_name": "Python (learn-env)",
   "language": "python",
   "name": "learn-env"
  },
  "language_info": {
   "codemirror_mode": {
    "name": "ipython",
    "version": 3
   },
   "file_extension": ".py",
   "mimetype": "text/x-python",
   "name": "python",
   "nbconvert_exporter": "python",
   "pygments_lexer": "ipython3",
   "version": "3.8.5"
  }
 },
 "nbformat": 4,
 "nbformat_minor": 5
}
