{
 "cells": [
  {
   "cell_type": "markdown",
   "id": "026e7893-fda9-406a-b1f8-0167e8cb8691",
   "metadata": {},
   "source": [
    "# MOVIE ANALYSIS AND PREDICTIONS"
   ]
  },
  {
   "cell_type": "code",
   "execution_count": 36,
   "id": "a15edf88-6b45-4271-ad1b-b2c3796ff4ae",
   "metadata": {},
   "outputs": [],
   "source": [
    "#import necessary libraries for the whole project-Analysis and Modelling \n",
    "import pandas as pd\n",
    "import zipfile #to extract files from zipfile\n",
    "import matplotlib.pyplot as plt\n",
    "%matplotlib inline\n"
   ]
  },
  {
   "cell_type": "code",
   "execution_count": 1,
   "id": "99323b9e-9305-44f7-ac81-d99e4ca5fd21",
   "metadata": {},
   "outputs": [
    {
     "name": "stdout",
     "output_type": "stream",
     "text": [
      " Volume in drive C has no label.\n",
      " Volume Serial Number is E2A6-39CF\n",
      "\n",
      " Directory of C:\\Users\\hp\\Desktop\\Movie Analysis\n",
      "\n",
      "05/27/2024  03:11 PM    <DIR>          .\n",
      "05/27/2024  03:11 PM    <DIR>          ..\n",
      "05/27/2024  01:07 PM    <DIR>          .ipynb_checkpoints\n",
      "05/27/2024  01:40 PM    <DIR>          dsc-phase-1-project-master\n",
      "05/27/2024  01:29 PM        48,188,554 dsc-phase-1-project-master.zip\n",
      "05/27/2024  03:11 PM            14,825 Movie_Analysis_and_Predictions.ipynb\n",
      "05/27/2024  01:31 PM    <DIR>          path\n",
      "               2 File(s)     48,203,379 bytes\n",
      "               5 Dir(s)   5,577,269,248 bytes free\n"
     ]
    }
   ],
   "source": [
    "#View contents of directory\n",
    "%ls"
   ]
  },
  {
   "cell_type": "code",
   "execution_count": 2,
   "id": "f53729da-e060-4a26-8b9a-e77905e7ad99",
   "metadata": {},
   "outputs": [
    {
     "name": "stdout",
     "output_type": "stream",
     "text": [
      "Files Extracted: ['.git', '.ipynb_checkpoints', 'dsc-phase-1-project-master', 'dsc-phase-1-project-master.zip', 'Movie_Analysis_and_Predictions.ipynb', 'path']\n"
     ]
    }
   ],
   "source": [
    "#Extract the ZipFile\n",
    "\n",
    "\n",
    "zipfile_path = \"dsc-phase-1-project-master.zip\"\n",
    "directory = r\"C:\\Users\\hp\\Desktop\\Movie Analysis\"\n",
    "\n",
    "with zipfile.ZipFile(zipfile_path,\"r\") as zip_ref:\n",
    "    zip_ref.extractall(directory)\n",
    "\n",
    "#list zipfile contents extracted\n",
    "#import os\n",
    "import os\n",
    "files_extracted = os.listdir(directory)\n",
    "\n",
    "#View extracted files\n",
    "print(\"Files Extracted:\", files_extracted)\n"
   ]
  },
  {
   "cell_type": "code",
   "execution_count": 3,
   "id": "161b2046-5a07-4f78-b940-140b5a1d4fe6",
   "metadata": {},
   "outputs": [
    {
     "name": "stdout",
     "output_type": "stream",
     "text": [
      "Contents of dsc-phase-1-project-master.zip:\n",
      "dsc-phase-1-project-master/\n",
      "dsc-phase-1-project-master/.canvas\n",
      "dsc-phase-1-project-master/.gitignore\n",
      "dsc-phase-1-project-master/CONTRIBUTING.md\n",
      "dsc-phase-1-project-master/LICENSE.md\n",
      "dsc-phase-1-project-master/README.md\n",
      "dsc-phase-1-project-master/awesome.gif\n",
      "dsc-phase-1-project-master/student.ipynb\n",
      "dsc-phase-1-project-master/zippedData/\n",
      "dsc-phase-1-project-master/zippedData/bom.movie_gross.csv.gz\n",
      "dsc-phase-1-project-master/zippedData/imdb.name.basics.csv.gz\n",
      "dsc-phase-1-project-master/zippedData/imdb.title.akas.csv.gz\n",
      "dsc-phase-1-project-master/zippedData/imdb.title.basics.csv.gz\n",
      "dsc-phase-1-project-master/zippedData/imdb.title.crew.csv.gz\n",
      "dsc-phase-1-project-master/zippedData/imdb.title.principals.csv.gz\n",
      "dsc-phase-1-project-master/zippedData/imdb.title.ratings.csv.gz\n",
      "dsc-phase-1-project-master/zippedData/rt.movie_info.tsv.gz\n",
      "dsc-phase-1-project-master/zippedData/rt.reviews.tsv.gz\n",
      "dsc-phase-1-project-master/zippedData/tmdb.movies.csv.gz\n",
      "dsc-phase-1-project-master/zippedData/tn.movie_budgets.csv.gz\n"
     ]
    }
   ],
   "source": [
    "#get all files in the zip folder name dsc-phase-1-project-master.zip\n",
    "#zip-ref is defined above \n",
    "zip_contents = zip_ref.namelist()\n",
    "\n",
    "# Display all files\n",
    "print(\"Contents of dsc-phase-1-project-master.zip:\")\n",
    "for item in zip_contents:\n",
    "    print(item)\n"
   ]
  },
  {
   "cell_type": "markdown",
   "id": "b0d46c3e-0138-4013-a507-a8d736781f2c",
   "metadata": {},
   "source": [
    "# Analysis and Prediction of the Movies based on Gross Income Per Year"
   ]
  },
  {
   "cell_type": "code",
   "execution_count": 4,
   "id": "c8f2643b-f2ea-4daf-b0d4-ca45ea62e210",
   "metadata": {},
   "outputs": [
    {
     "data": {
      "text/html": [
       "<div>\n",
       "<style scoped>\n",
       "    .dataframe tbody tr th:only-of-type {\n",
       "        vertical-align: middle;\n",
       "    }\n",
       "\n",
       "    .dataframe tbody tr th {\n",
       "        vertical-align: top;\n",
       "    }\n",
       "\n",
       "    .dataframe thead th {\n",
       "        text-align: right;\n",
       "    }\n",
       "</style>\n",
       "<table border=\"1\" class=\"dataframe\">\n",
       "  <thead>\n",
       "    <tr style=\"text-align: right;\">\n",
       "      <th></th>\n",
       "      <th>title</th>\n",
       "      <th>studio</th>\n",
       "      <th>domestic_gross</th>\n",
       "      <th>foreign_gross</th>\n",
       "      <th>year</th>\n",
       "    </tr>\n",
       "  </thead>\n",
       "  <tbody>\n",
       "    <tr>\n",
       "      <th>0</th>\n",
       "      <td>Toy Story 3</td>\n",
       "      <td>BV</td>\n",
       "      <td>415000000.0</td>\n",
       "      <td>652000000</td>\n",
       "      <td>2010</td>\n",
       "    </tr>\n",
       "    <tr>\n",
       "      <th>1</th>\n",
       "      <td>Alice in Wonderland (2010)</td>\n",
       "      <td>BV</td>\n",
       "      <td>334200000.0</td>\n",
       "      <td>691300000</td>\n",
       "      <td>2010</td>\n",
       "    </tr>\n",
       "    <tr>\n",
       "      <th>2</th>\n",
       "      <td>Harry Potter and the Deathly Hallows Part 1</td>\n",
       "      <td>WB</td>\n",
       "      <td>296000000.0</td>\n",
       "      <td>664300000</td>\n",
       "      <td>2010</td>\n",
       "    </tr>\n",
       "    <tr>\n",
       "      <th>3</th>\n",
       "      <td>Inception</td>\n",
       "      <td>WB</td>\n",
       "      <td>292600000.0</td>\n",
       "      <td>535700000</td>\n",
       "      <td>2010</td>\n",
       "    </tr>\n",
       "    <tr>\n",
       "      <th>4</th>\n",
       "      <td>Shrek Forever After</td>\n",
       "      <td>P/DW</td>\n",
       "      <td>238700000.0</td>\n",
       "      <td>513900000</td>\n",
       "      <td>2010</td>\n",
       "    </tr>\n",
       "    <tr>\n",
       "      <th>...</th>\n",
       "      <td>...</td>\n",
       "      <td>...</td>\n",
       "      <td>...</td>\n",
       "      <td>...</td>\n",
       "      <td>...</td>\n",
       "    </tr>\n",
       "    <tr>\n",
       "      <th>3382</th>\n",
       "      <td>The Quake</td>\n",
       "      <td>Magn.</td>\n",
       "      <td>6200.0</td>\n",
       "      <td>NaN</td>\n",
       "      <td>2018</td>\n",
       "    </tr>\n",
       "    <tr>\n",
       "      <th>3383</th>\n",
       "      <td>Edward II (2018 re-release)</td>\n",
       "      <td>FM</td>\n",
       "      <td>4800.0</td>\n",
       "      <td>NaN</td>\n",
       "      <td>2018</td>\n",
       "    </tr>\n",
       "    <tr>\n",
       "      <th>3384</th>\n",
       "      <td>El Pacto</td>\n",
       "      <td>Sony</td>\n",
       "      <td>2500.0</td>\n",
       "      <td>NaN</td>\n",
       "      <td>2018</td>\n",
       "    </tr>\n",
       "    <tr>\n",
       "      <th>3385</th>\n",
       "      <td>The Swan</td>\n",
       "      <td>Synergetic</td>\n",
       "      <td>2400.0</td>\n",
       "      <td>NaN</td>\n",
       "      <td>2018</td>\n",
       "    </tr>\n",
       "    <tr>\n",
       "      <th>3386</th>\n",
       "      <td>An Actor Prepares</td>\n",
       "      <td>Grav.</td>\n",
       "      <td>1700.0</td>\n",
       "      <td>NaN</td>\n",
       "      <td>2018</td>\n",
       "    </tr>\n",
       "  </tbody>\n",
       "</table>\n",
       "<p>3387 rows × 5 columns</p>\n",
       "</div>"
      ],
      "text/plain": [
       "                                            title      studio  domestic_gross  \\\n",
       "0                                     Toy Story 3          BV     415000000.0   \n",
       "1                      Alice in Wonderland (2010)          BV     334200000.0   \n",
       "2     Harry Potter and the Deathly Hallows Part 1          WB     296000000.0   \n",
       "3                                       Inception          WB     292600000.0   \n",
       "4                             Shrek Forever After        P/DW     238700000.0   \n",
       "...                                           ...         ...             ...   \n",
       "3382                                    The Quake       Magn.          6200.0   \n",
       "3383                  Edward II (2018 re-release)          FM          4800.0   \n",
       "3384                                     El Pacto        Sony          2500.0   \n",
       "3385                                     The Swan  Synergetic          2400.0   \n",
       "3386                            An Actor Prepares       Grav.          1700.0   \n",
       "\n",
       "     foreign_gross  year  \n",
       "0        652000000  2010  \n",
       "1        691300000  2010  \n",
       "2        664300000  2010  \n",
       "3        535700000  2010  \n",
       "4        513900000  2010  \n",
       "...            ...   ...  \n",
       "3382           NaN  2018  \n",
       "3383           NaN  2018  \n",
       "3384           NaN  2018  \n",
       "3385           NaN  2018  \n",
       "3386           NaN  2018  \n",
       "\n",
       "[3387 rows x 5 columns]"
      ]
     },
     "execution_count": 4,
     "metadata": {},
     "output_type": "execute_result"
    }
   ],
   "source": [
    "#Import pandas and preview file as dataframe \n",
    "import pandas as pd\n",
    "\n",
    "# Path to the gzip compressed CSV file\n",
    "movie_gross = \"dsc-phase-1-project-master/zippedData/bom.movie_gross.csv.gz\"\n",
    "\n",
    "# Read the gzip compressed CSV file into a DataFrame\n",
    "movie_gross_df = pd.read_csv(movie_gross, compression='gzip')\n",
    "\n",
    "# Display the DataFrame\n",
    "movie_gross_df\n"
   ]
  },
  {
   "cell_type": "markdown",
   "id": "9061af06-aecb-4833-b773-eb12214e34a2",
   "metadata": {},
   "source": [
    "#### Data Understanding "
   ]
  },
  {
   "cell_type": "code",
   "execution_count": 11,
   "id": "ea9b9559-7ee6-45c1-b568-82b0b5ed11bd",
   "metadata": {},
   "outputs": [
    {
     "name": "stdout",
     "output_type": "stream",
     "text": [
      "<class 'pandas.core.frame.DataFrame'>\n",
      "RangeIndex: 3387 entries, 0 to 3386\n",
      "Data columns (total 5 columns):\n",
      " #   Column          Non-Null Count  Dtype  \n",
      "---  ------          --------------  -----  \n",
      " 0   title           3387 non-null   object \n",
      " 1   studio          3382 non-null   object \n",
      " 2   domestic_gross  3359 non-null   float64\n",
      " 3   foreign_gross   2037 non-null   object \n",
      " 4   year            3387 non-null   int64  \n",
      "dtypes: float64(1), int64(1), object(3)\n",
      "memory usage: 132.4+ KB\n"
     ]
    }
   ],
   "source": [
    "#check for general data information\n",
    "movie_gross_df.info()"
   ]
  },
  {
   "cell_type": "code",
   "execution_count": 25,
   "id": "5a6b5a76-1852-49c3-9e4d-bd9ce1e90032",
   "metadata": {},
   "outputs": [
    {
     "data": {
      "text/plain": [
       "dtype('float64')"
      ]
     },
     "execution_count": 25,
     "metadata": {},
     "output_type": "execute_result"
    }
   ],
   "source": [
    "#change datatype of foreign_gross to float64\n",
    "#replace the commas in the values with space to allow conversation\n",
    "movie_gross_df[\"foreign_gross\"] = movie_gross_df[\"foreign_gross\"].str.replace(',', '').astype(float)\n",
    "\n",
    "#preview datatype\n",
    "movie_gross_df[\"foreign_gross\"].dtype"
   ]
  },
  {
   "cell_type": "code",
   "execution_count": 5,
   "id": "10cb9cd5-475d-4101-9097-d5ad84ee81cb",
   "metadata": {},
   "outputs": [
    {
     "data": {
      "text/plain": [
       "title                0\n",
       "studio               5\n",
       "domestic_gross      28\n",
       "foreign_gross     1350\n",
       "year                 0\n",
       "dtype: int64"
      ]
     },
     "execution_count": 5,
     "metadata": {},
     "output_type": "execute_result"
    }
   ],
   "source": [
    "#Check missing values\n",
    "movie_gross_df.isna().sum()"
   ]
  },
  {
   "cell_type": "code",
   "execution_count": 6,
   "id": "03a11e93-8cbe-4be3-ba9d-414c9c629b64",
   "metadata": {
    "scrolled": true
   },
   "outputs": [
    {
     "name": "stdout",
     "output_type": "stream",
     "text": [
      "count    3.359000e+03\n",
      "mean     2.874585e+07\n",
      "std      6.698250e+07\n",
      "min      1.000000e+02\n",
      "25%      1.200000e+05\n",
      "50%      1.400000e+06\n",
      "75%      2.790000e+07\n",
      "max      9.367000e+08\n",
      "Name: domestic_gross, dtype: float64 \n",
      "\n",
      " count        2037\n",
      "unique       1204\n",
      "top       1200000\n",
      "freq           23\n",
      "Name: foreign_gross, dtype: object\n"
     ]
    }
   ],
   "source": [
    "#Stastical Summary of domestic and foreign gross\n",
    "print(movie_gross_df[\"domestic_gross\"].describe(), \"\\n\\n\", movie_gross_df[\"foreign_gross\"].describe())"
   ]
  },
  {
   "cell_type": "code",
   "execution_count": 34,
   "id": "468011bb-8acf-4d70-8d7f-febcc8da0ae0",
   "metadata": {},
   "outputs": [
    {
     "data": {
      "text/html": [
       "<div>\n",
       "<style scoped>\n",
       "    .dataframe tbody tr th:only-of-type {\n",
       "        vertical-align: middle;\n",
       "    }\n",
       "\n",
       "    .dataframe tbody tr th {\n",
       "        vertical-align: top;\n",
       "    }\n",
       "\n",
       "    .dataframe thead th {\n",
       "        text-align: right;\n",
       "    }\n",
       "</style>\n",
       "<table border=\"1\" class=\"dataframe\">\n",
       "  <thead>\n",
       "    <tr style=\"text-align: right;\">\n",
       "      <th></th>\n",
       "      <th>title</th>\n",
       "      <th>studio</th>\n",
       "      <th>domestic_gross</th>\n",
       "      <th>foreign_gross</th>\n",
       "      <th>year</th>\n",
       "    </tr>\n",
       "  </thead>\n",
       "  <tbody>\n",
       "    <tr>\n",
       "      <th>1872</th>\n",
       "      <td>Star Wars: The Force Awakens</td>\n",
       "      <td>BV</td>\n",
       "      <td>936700000.0</td>\n",
       "      <td>1131.6</td>\n",
       "      <td>2015</td>\n",
       "    </tr>\n",
       "    <tr>\n",
       "      <th>3080</th>\n",
       "      <td>Black Panther</td>\n",
       "      <td>BV</td>\n",
       "      <td>700100000.0</td>\n",
       "      <td>646900000.0</td>\n",
       "      <td>2018</td>\n",
       "    </tr>\n",
       "    <tr>\n",
       "      <th>3079</th>\n",
       "      <td>Avengers: Infinity War</td>\n",
       "      <td>BV</td>\n",
       "      <td>678800000.0</td>\n",
       "      <td>1369.5</td>\n",
       "      <td>2018</td>\n",
       "    </tr>\n",
       "    <tr>\n",
       "      <th>1873</th>\n",
       "      <td>Jurassic World</td>\n",
       "      <td>Uni.</td>\n",
       "      <td>652300000.0</td>\n",
       "      <td>1019.4</td>\n",
       "      <td>2015</td>\n",
       "    </tr>\n",
       "    <tr>\n",
       "      <th>727</th>\n",
       "      <td>Marvel's The Avengers</td>\n",
       "      <td>BV</td>\n",
       "      <td>623400000.0</td>\n",
       "      <td>895500000.0</td>\n",
       "      <td>2012</td>\n",
       "    </tr>\n",
       "    <tr>\n",
       "      <th>2758</th>\n",
       "      <td>Star Wars: The Last Jedi</td>\n",
       "      <td>BV</td>\n",
       "      <td>620200000.0</td>\n",
       "      <td>712400000.0</td>\n",
       "      <td>2017</td>\n",
       "    </tr>\n",
       "    <tr>\n",
       "      <th>3082</th>\n",
       "      <td>Incredibles 2</td>\n",
       "      <td>BV</td>\n",
       "      <td>608600000.0</td>\n",
       "      <td>634200000.0</td>\n",
       "      <td>2018</td>\n",
       "    </tr>\n",
       "    <tr>\n",
       "      <th>2323</th>\n",
       "      <td>Rogue One: A Star Wars Story</td>\n",
       "      <td>BV</td>\n",
       "      <td>532200000.0</td>\n",
       "      <td>523900000.0</td>\n",
       "      <td>2016</td>\n",
       "    </tr>\n",
       "    <tr>\n",
       "      <th>2759</th>\n",
       "      <td>Beauty and the Beast (2017)</td>\n",
       "      <td>BV</td>\n",
       "      <td>504000000.0</td>\n",
       "      <td>759500000.0</td>\n",
       "      <td>2017</td>\n",
       "    </tr>\n",
       "    <tr>\n",
       "      <th>2324</th>\n",
       "      <td>Finding Dory</td>\n",
       "      <td>BV</td>\n",
       "      <td>486300000.0</td>\n",
       "      <td>542300000.0</td>\n",
       "      <td>2016</td>\n",
       "    </tr>\n",
       "  </tbody>\n",
       "</table>\n",
       "</div>"
      ],
      "text/plain": [
       "                             title studio  domestic_gross  foreign_gross  year\n",
       "1872  Star Wars: The Force Awakens     BV     936700000.0         1131.6  2015\n",
       "3080                 Black Panther     BV     700100000.0    646900000.0  2018\n",
       "3079        Avengers: Infinity War     BV     678800000.0         1369.5  2018\n",
       "1873                Jurassic World   Uni.     652300000.0         1019.4  2015\n",
       "727          Marvel's The Avengers     BV     623400000.0    895500000.0  2012\n",
       "2758      Star Wars: The Last Jedi     BV     620200000.0    712400000.0  2017\n",
       "3082                 Incredibles 2     BV     608600000.0    634200000.0  2018\n",
       "2323  Rogue One: A Star Wars Story     BV     532200000.0    523900000.0  2016\n",
       "2759   Beauty and the Beast (2017)     BV     504000000.0    759500000.0  2017\n",
       "2324                  Finding Dory     BV     486300000.0    542300000.0  2016"
      ]
     },
     "execution_count": 34,
     "metadata": {},
     "output_type": "execute_result"
    }
   ],
   "source": [
    "#check for top ten highest domestic gross income movies\n",
    "top_domesticmarket_movies = movie_gross_df.sort_values(by=\"domestic_gross\",ascending = False).head(10)\n",
    "top_domesticmarket_movies"
   ]
  },
  {
   "cell_type": "code",
   "execution_count": 55,
   "id": "99092bb7-327d-477e-afba-e91268aaae26",
   "metadata": {},
   "outputs": [
    {
     "data": {
      "image/png": "[encoded data removed]",
      "text/plain": [
       "<Figure size 1000x600 with 1 Axes>"
      ]
     },
     "metadata": {},
     "output_type": "display_data"
    }
   ],
   "source": [
    "#visualize the highest domestic paying films\n",
    "plt.figure(figsize=(10, 6))\n",
    "colors = ['blue', 'lightblue', 'skyblue', 'green', 'lightgreen', 'gold', 'lightgreen', 'green', 'blue', 'lightblue']\n",
    "plt.bar(top_domesticmarket_movies['title'], top_domesticmarket_movies['domestic_gross'], color=colors)\n",
    "plt.xlabel('Movie Title')\n",
    "plt.ylabel('Domestic Gross Income')\n",
    "plt.title('Top Ten Highest Grossing Movies')\n",
    "plt.xticks(rotation=5, ha='right')\n",
    "plt.tight_layout()\n",
    "plt.show()"
   ]
  },
  {
   "cell_type": "code",
   "execution_count": 65,
   "id": "9f080bee-56b3-4aba-a036-db11e5922d1c",
   "metadata": {},
   "outputs": [
    {
     "data": {
      "image/png": "[encoded data removed]",
      "text/plain": [
       "<Figure size 1000x600 with 1 Axes>"
      ]
     },
     "metadata": {},
     "output_type": "display_data"
    }
   ],
   "source": [
    "#visualize the best Studio\n",
    "plt.figure(figsize=(10, 6))\n",
    "\n",
    "plt.bar(top_domesticmarket_movies['studio'], top_domesticmarket_movies['domestic_gross'])\n",
    "plt.xlabel('Movie Studio')\n",
    "plt.ylabel('Domestic Gross Income')\n",
    "plt.title('Studio Producing The Top Ten Highest Grossing Movies')\n",
    "plt.xticks(rotation=45, ha='right')\n",
    "plt.tight_layout()\n",
    "plt.show()"
   ]
  },
  {
   "cell_type": "code",
   "execution_count": 35,
   "id": "657e720a-a434-47d7-a950-b0ee2f3031ed",
   "metadata": {},
   "outputs": [
    {
     "data": {
      "text/html": [
       "<div>\n",
       "<style scoped>\n",
       "    .dataframe tbody tr th:only-of-type {\n",
       "        vertical-align: middle;\n",
       "    }\n",
       "\n",
       "    .dataframe tbody tr th {\n",
       "        vertical-align: top;\n",
       "    }\n",
       "\n",
       "    .dataframe thead th {\n",
       "        text-align: right;\n",
       "    }\n",
       "</style>\n",
       "<table border=\"1\" class=\"dataframe\">\n",
       "  <thead>\n",
       "    <tr style=\"text-align: right;\">\n",
       "      <th></th>\n",
       "      <th>title</th>\n",
       "      <th>studio</th>\n",
       "      <th>domestic_gross</th>\n",
       "      <th>foreign_gross</th>\n",
       "      <th>year</th>\n",
       "    </tr>\n",
       "  </thead>\n",
       "  <tbody>\n",
       "    <tr>\n",
       "      <th>328</th>\n",
       "      <td>Harry Potter and the Deathly Hallows Part 2</td>\n",
       "      <td>WB</td>\n",
       "      <td>381000000.0</td>\n",
       "      <td>960500000.0</td>\n",
       "      <td>2011</td>\n",
       "    </tr>\n",
       "    <tr>\n",
       "      <th>1875</th>\n",
       "      <td>Avengers: Age of Ultron</td>\n",
       "      <td>BV</td>\n",
       "      <td>459000000.0</td>\n",
       "      <td>946400000.0</td>\n",
       "      <td>2015</td>\n",
       "    </tr>\n",
       "    <tr>\n",
       "      <th>727</th>\n",
       "      <td>Marvel's The Avengers</td>\n",
       "      <td>BV</td>\n",
       "      <td>623400000.0</td>\n",
       "      <td>895500000.0</td>\n",
       "      <td>2012</td>\n",
       "    </tr>\n",
       "    <tr>\n",
       "      <th>3081</th>\n",
       "      <td>Jurassic World: Fallen Kingdom</td>\n",
       "      <td>Uni.</td>\n",
       "      <td>417700000.0</td>\n",
       "      <td>891800000.0</td>\n",
       "      <td>2018</td>\n",
       "    </tr>\n",
       "    <tr>\n",
       "      <th>1127</th>\n",
       "      <td>Frozen</td>\n",
       "      <td>BV</td>\n",
       "      <td>400700000.0</td>\n",
       "      <td>875700000.0</td>\n",
       "      <td>2013</td>\n",
       "    </tr>\n",
       "    <tr>\n",
       "      <th>2764</th>\n",
       "      <td>Wolf Warrior 2</td>\n",
       "      <td>HC</td>\n",
       "      <td>2700000.0</td>\n",
       "      <td>867600000.0</td>\n",
       "      <td>2017</td>\n",
       "    </tr>\n",
       "    <tr>\n",
       "      <th>1477</th>\n",
       "      <td>Transformers: Age of Extinction</td>\n",
       "      <td>Par.</td>\n",
       "      <td>245400000.0</td>\n",
       "      <td>858600000.0</td>\n",
       "      <td>2014</td>\n",
       "    </tr>\n",
       "    <tr>\n",
       "      <th>1876</th>\n",
       "      <td>Minions</td>\n",
       "      <td>Uni.</td>\n",
       "      <td>336000000.0</td>\n",
       "      <td>823400000.0</td>\n",
       "      <td>2015</td>\n",
       "    </tr>\n",
       "    <tr>\n",
       "      <th>3083</th>\n",
       "      <td>Aquaman</td>\n",
       "      <td>WB</td>\n",
       "      <td>335100000.0</td>\n",
       "      <td>812700000.0</td>\n",
       "      <td>2018</td>\n",
       "    </tr>\n",
       "    <tr>\n",
       "      <th>1128</th>\n",
       "      <td>Iron Man 3</td>\n",
       "      <td>BV</td>\n",
       "      <td>409000000.0</td>\n",
       "      <td>805800000.0</td>\n",
       "      <td>2013</td>\n",
       "    </tr>\n",
       "  </tbody>\n",
       "</table>\n",
       "</div>"
      ],
      "text/plain": [
       "                                            title studio  domestic_gross  \\\n",
       "328   Harry Potter and the Deathly Hallows Part 2     WB     381000000.0   \n",
       "1875                      Avengers: Age of Ultron     BV     459000000.0   \n",
       "727                         Marvel's The Avengers     BV     623400000.0   \n",
       "3081               Jurassic World: Fallen Kingdom   Uni.     417700000.0   \n",
       "1127                                       Frozen     BV     400700000.0   \n",
       "2764                               Wolf Warrior 2     HC       2700000.0   \n",
       "1477              Transformers: Age of Extinction   Par.     245400000.0   \n",
       "1876                                      Minions   Uni.     336000000.0   \n",
       "3083                                      Aquaman     WB     335100000.0   \n",
       "1128                                   Iron Man 3     BV     409000000.0   \n",
       "\n",
       "      foreign_gross  year  \n",
       "328     960500000.0  2011  \n",
       "1875    946400000.0  2015  \n",
       "727     895500000.0  2012  \n",
       "3081    891800000.0  2018  \n",
       "1127    875700000.0  2013  \n",
       "2764    867600000.0  2017  \n",
       "1477    858600000.0  2014  \n",
       "1876    823400000.0  2015  \n",
       "3083    812700000.0  2018  \n",
       "1128    805800000.0  2013  "
      ]
     },
     "execution_count": 35,
     "metadata": {},
     "output_type": "execute_result"
    }
   ],
   "source": [
    "#check for top ten highest foreign gross income movies\n",
    "top_foreignmarket_movies = movie_gross_df.sort_values(by=\"foreign_gross\",ascending = False).head(10)\n",
    "top_foreignmarket_movies"
   ]
  },
  {
   "cell_type": "code",
   "execution_count": null,
   "id": "2ef731bf-6d3b-4db8-b104-e5741b39674d",
   "metadata": {},
   "outputs": [],
   "source": []
  }
 ],
 "metadata": {
  "kernelspec": {
   "display_name": "Python (learn-env)",
   "language": "python",
   "name": "learn-env"
  },
  "language_info": {
   "codemirror_mode": {
    "name": "ipython",
    "version": 3
   },
   "file_extension": ".py",
   "mimetype": "text/x-python",
   "name": "python",
   "nbconvert_exporter": "python",
   "pygments_lexer": "ipython3",
   "version": "3.8.5"
  }
 },
 "nbformat": 4,
 "nbformat_minor": 5
}
